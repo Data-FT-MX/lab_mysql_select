{
 "cells": [
  {
   "cell_type": "markdown",
   "id": "ec5ec3b8",
   "metadata": {},
   "source": [
    "![Ironhack logo](https://i.imgur.com/1QgrNNw.png)\n",
    "\n",
    "# Lab | MySQL Select\n",
    "\n",
    "## Introduction\n",
    "\n",
    "In this lab you will practice how to use the MySQL `SELECT` statement which will be extremely useful in your future work as a data analyst/scientist/engineer. **You will use the `publications` database that we used in the *Joins and Relationships* lesson.** In case you haven't had that database, [here](https://s3-eu-west-1.amazonaws.com/ih-materials/uploads/data-static/data/module-1/publications.sql.zip) is the link to download the database file.\n",
    "\n",
    "You will create a `solutions.sql` file in the `your-code` directory to record your solutions to all challenges.\n",
    "\n",
    "## Challenge 1 - Who Have Published What At Where?\n",
    "\n",
    "In this challenge you will write a MySQL `SELECT` query that joins various tables to figure out what titles each author has published at which publishers. Your output should have at least the following columns:\n",
    "\n",
    "* `AUTHOR ID` - the ID of the author\n",
    "* `LAST NAME` - author last name\n",
    "* `FIRST NAME` - author first name\n",
    "* `TITLE` - name of the published title\n",
    "* `PUBLISHER` - name of the publisher where the title was published\n",
    "\n",
    "Your output will look something like below:\n",
    "\n",
    "![Challenge 1 output](challenge-1.png)\n",
    "\n",
    "*Note: the screenshot above is not the complete output.*\n",
    "\n",
    "If your query is correct, the total rows in your output should be the same as the total number of records in Table `titleauthor`.\n"
   ]
  },
  {
   "cell_type": "code",
   "execution_count": null,
   "id": "8089a75e",
   "metadata": {},
   "outputs": [],
   "source": []
  },
  {
   "cell_type": "markdown",
   "id": "92afa51b",
   "metadata": {},
   "source": [
    "## Challenge 2 - Who Have Published How Many At Where?\n",
    "\n",
    "Elevating from your solution in Challenge 1, query how many titles each author has published at each publisher. Your output should look something like below:\n",
    "\n",
    "![Challenge 2 output](challenge-2.png)\n",
    "\n",
    "*Note: the screenshot above is not the complete output.*\n",
    "\n",
    "To check if your output is correct, sum up the `TITLE COUNT` column. The sum number should be the same as the total number of records in Table `titleauthor`.\n",
    "\n",
    "*Hint: In order to count the number of titles published by an author, you need to use [MySQL COUNT](https://dev.mysql.com/doc/refman/8.0/en/counting-rows.html). Also check out [MySQL Group By](https://dev.mysql.com/doc/refman/8.0/en/group-by-modifiers.html) because you will count the rows of different groups of data. Refer to the references and learn by yourself. These features will be formally discussed in the Temp Tables and Subqueries lesson.*"
   ]
  },
  {
   "cell_type": "code",
   "execution_count": null,
   "id": "ae894a67",
   "metadata": {},
   "outputs": [],
   "source": []
  },
  {
   "cell_type": "markdown",
   "id": "96ffacde",
   "metadata": {},
   "source": [
    "## Challenge 3 - Best Selling Authors\n",
    "\n",
    "Who are the top 3 authors who have sold the highest number of titles? Write a query to find out.\n",
    "\n",
    "Requirements:\n",
    "\n",
    "* Your output should have the following columns:\n",
    "\t* `AUTHOR ID` - the ID of the author\n",
    "\t* `LAST NAME` - author last name\n",
    "\t* `FIRST NAME` - author first name\n",
    "\t* `TOTAL` - total number of titles sold from this author\n",
    "* Your output should be ordered based on `TOTAL` from high to low.\n",
    "* Only output the top 3 best selling authors.\n",
    "\n",
    "*Hint: In order to calculate the total of profits of an author, you need to use the [MySQL SUM function](https://dev.mysql.com/doc/refman/8.0/en/group-by-functions.html#function_sum). Refer to the reference and learn how to use it.*\n"
   ]
  },
  {
   "cell_type": "code",
   "execution_count": null,
   "id": "85c94cf8",
   "metadata": {},
   "outputs": [],
   "source": []
  },
  {
   "cell_type": "markdown",
   "id": "a6ebb704",
   "metadata": {},
   "source": [
    "## Challenge 4 - Best Selling Authors Ranking\n",
    "\n",
    "Now modify your solution in Challenge 3 so that the output will display all 23 authors instead of the top 3. Note that the authors who have sold 0 titles should also appear in your output (ideally display `0` instead of `NULL` as the `TOTAL`). Also order your results based on `TOTAL` from high to low."
   ]
  },
  {
   "cell_type": "code",
   "execution_count": null,
   "id": "c58491a9",
   "metadata": {},
   "outputs": [],
   "source": []
  }
 ],
 "metadata": {
  "kernelspec": {
   "display_name": "Python 3 (ipykernel)",
   "language": "python",
   "name": "python3"
  },
  "language_info": {
   "codemirror_mode": {
    "name": "ipython",
    "version": 3
   },
   "file_extension": ".py",
   "mimetype": "text/x-python",
   "name": "python",
   "nbconvert_exporter": "python",
   "pygments_lexer": "ipython3",
   "version": "3.10.1"
  }
 },
 "nbformat": 4,
 "nbformat_minor": 5
}
